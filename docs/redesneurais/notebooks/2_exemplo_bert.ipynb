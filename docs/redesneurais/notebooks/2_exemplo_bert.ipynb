{
 "cells": [
  {
   "cell_type": "code",
   "execution_count": null,
   "id": "52187bb0",
   "metadata": {},
   "outputs": [],
   "source": [
    "#!pip install transformer\n",
    "#!pip install torch"
   ]
  },
  {
   "cell_type": "code",
   "execution_count": null,
   "id": "e2d66ddb",
   "metadata": {},
   "outputs": [],
   "source": [
    "print(\"Ola mundo\")"
   ]
  },
  {
   "cell_type": "code",
   "execution_count": 20,
   "id": "7d9e7d19",
   "metadata": {},
   "outputs": [
    {
     "name": "stderr",
     "output_type": "stream",
     "text": [
      "Some weights of the model checkpoint at bert-base-uncased were not used when initializing BertForMaskedLM: ['bert.pooler.dense.bias', 'bert.pooler.dense.weight', 'cls.seq_relationship.bias', 'cls.seq_relationship.weight']\n",
      "- This IS expected if you are initializing BertForMaskedLM from the checkpoint of a model trained on another task or with another architecture (e.g. initializing a BertForSequenceClassification model from a BertForPreTraining model).\n",
      "- This IS NOT expected if you are initializing BertForMaskedLM from the checkpoint of a model that you expect to be exactly identical (initializing a BertForSequenceClassification model from a BertForSequenceClassification model).\n",
      "Device set to use cpu\n"
     ]
    },
    {
     "data": {
      "text/plain": [
       "[{'score': 0.4307717978954315,\n",
       "  'token': 4274,\n",
       "  'token_str': 'internet',\n",
       "  'sequence': 'the book is on the internet.'},\n",
       " {'score': 0.06516042351722717,\n",
       "  'token': 4773,\n",
       "  'token_str': 'web',\n",
       "  'sequence': 'the book is on the web.'},\n",
       " {'score': 0.025904322043061256,\n",
       "  'token': 4037,\n",
       "  'token_str': 'website',\n",
       "  'sequence': 'the book is on the website.'},\n",
       " {'score': 0.020540783181786537,\n",
       "  'token': 11142,\n",
       "  'token_str': 'shelf',\n",
       "  'sequence': 'the book is on the shelf.'},\n",
       " {'score': 0.011629091575741768,\n",
       "  'token': 4966,\n",
       "  'token_str': 'dvd',\n",
       "  'sequence': 'the book is on the dvd.'}]"
      ]
     },
     "execution_count": 20,
     "metadata": {},
     "output_type": "execute_result"
    }
   ],
   "source": [
    "from transformers import pipeline\n",
    "\n",
    "clf = pipeline('fill-mask', model=\"bert-base-uncased\")\n",
    "\n",
    "response = clf(\"The book is on the [MASK].\")\n",
    "\n",
    "response"
   ]
  }
 ],
 "metadata": {
  "kernelspec": {
   "display_name": ".venv",
   "language": "python",
   "name": "python3"
  },
  "language_info": {
   "codemirror_mode": {
    "name": "ipython",
    "version": 3
   },
   "file_extension": ".py",
   "mimetype": "text/x-python",
   "name": "python",
   "nbconvert_exporter": "python",
   "pygments_lexer": "ipython3",
   "version": "3.11.0"
  }
 },
 "nbformat": 4,
 "nbformat_minor": 5
}
