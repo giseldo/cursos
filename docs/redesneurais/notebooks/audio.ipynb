{
 "cells": [
  {
   "cell_type": "code",
   "execution_count": null,
   "id": "eda1ead8",
   "metadata": {},
   "outputs": [],
   "source": [
    "import torch\n",
    "from TTS.api import TTS\n",
    "\n",
    "# Texto de entrada\n",
    "texto = \"Olá! Este é um exemplo de áudio gerado a partir de texto usando um modelo de síntese de voz.\"\n",
    "\n",
    "# Baixa e carrega um modelo TTS de alta qualidade (por exemplo, modelo multilingue da Coqui TTS)\n",
    "tts = TTS(model_name=\"tts_models/multilingual/multi-dataset/your_tts\", progress_bar=False, gpu=torch.cuda.is_available())\n",
    "\n",
    "# Gera o áudio e salva em um arquivo\n",
    "tts.tts_to_file(text=texto, file_path=\"audio_gerado.wav\", speaker_wav=None, language=\"pt\")\n",
    "\n",
    "print(\"Áudio gerado e salvo como 'audio_gerado.wav'.\")"
   ]
  }
 ],
 "metadata": {
  "language_info": {
   "name": "python"
  }
 },
 "nbformat": 4,
 "nbformat_minor": 5
}
